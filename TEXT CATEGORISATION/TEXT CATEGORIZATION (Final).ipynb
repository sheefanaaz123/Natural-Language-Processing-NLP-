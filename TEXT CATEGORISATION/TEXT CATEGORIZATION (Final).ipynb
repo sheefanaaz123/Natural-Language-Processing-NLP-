{
 "cells": [
  {
   "cell_type": "markdown",
   "id": "09580c5d",
   "metadata": {},
   "source": [
    "# **TEXT CATEGORIZATION**\n",
    "---\n"
   ]
  },
  {
   "cell_type": "markdown",
   "id": "69240c52",
   "metadata": {},
   "source": [
    "\n",
    "### **Problem Statement:**\n",
    "\n",
    "The project aims to develop a NLP solution for categorizing customer grievances. Customer grievances can arise in various forms, including issues related to the quality of service, access and availability, billing/financial disputes, benefit packages, marketing and many more. Here in this project, I have tried to trained a classification model, which can classify texts into appropriate category and subcategory.\n",
    "\n",
    "### **Objectives:**\n",
    "\n",
    "1. **Data Preprocessing:** This involves loading a dataset containing customer grievances, primarily focusing on the 'Description of the Grievance' column. The data is then preprocessed by cleaning and transforming the text to facilitate meaningful analysis.\n",
    "\n",
    "2. **Label Encoding:** The target labels, specifically 'Grievance Category' and 'Grievance SubCategory,' are encoded into numerical values to prepare them for machine learning algorithms.\n",
    "\n",
    "3. **Feature Engineering:** Text data is converted into numerical features using TF-IDF (Term Frequency-Inverse Document Frequency) vectorization. This step helps in representing the text data in a format suitable for machine learning models.\n",
    "\n",
    "4. **Model Building and Evaluation:** Several machine learning classifiers, including K Nearest Neighbors, Decision Tree, Random Forest, Logistic Regression, SGD Classifier, Naive Bayes, and SVM Linear, are employed to categorize customer grievances into predefined categories. Both 'Grievance Category' and 'Grievance SubCategory' are predicted separately using these classifiers.\n",
    "\n",
    "5. **Ensemble Modeling:** A Voting Classifier is constructed to combine predictions from multiple base classifiers. This ensemble approach aims to enhance prediction accuracy and robustness.\n",
    "\n",
    "6. **Performance Evaluation:** The accuracy of each individual classifier and the ensemble model is evaluated, and classification reports are generated to provide more detailed insights into model performance.\n",
    "\n",
    "### **Outcome:**\n",
    "\n",
    "The project seeks to provide a robust and accurate solution for automatically categorizing customer grievances based on textual descriptions. This automated categorization can help organizations streamline their grievance handling processes, allocate resources efficiently, and enhance customer satisfaction by ensuring that grievances are directed to the appropriate teams for resolution. The use of machine learning and ensemble techniques allows for a more efficient and objective handling of customer grievances.\n",
    "\n",
    "##### Category Prediction Results:\n",
    "##### Achieved the highest accuracy of 62.42% using the Voting Classifier model.\n",
    "\n",
    "##### Sub-Category Prediction Results: \n",
    "##### Achieved the highest accuracy of 37.58% through the combined efforts of the Voting Classifier and SVM                                                                            Linear models.\n"
   ]
  },
  {
   "cell_type": "code",
   "execution_count": 41,
   "id": "72c61888",
   "metadata": {},
   "outputs": [],
   "source": [
    "# Importing the Pandas library.\n",
    "import pandas as pd\n",
    "\n",
    "# Importing the 're' module.\n",
    "import re\n",
    "\n",
    "# Suppressing warnings to maintain a clean and readable output.\n",
    "import warnings\n",
    "warnings.filterwarnings(\"ignore\")\n",
    "\n",
    "# NLTK libraries for tokenization and lemmatization\n",
    "from nltk.tokenize import word_tokenize\n",
    "from nltk.stem import WordNetLemmatizer\n",
    "\n",
    "# Scikit-learn libraries for data preprocessing and machine learning\n",
    "from sklearn.preprocessing import LabelEncoder\n",
    "from sklearn.model_selection import train_test_split, GridSearchCV\n",
    "from sklearn.feature_extraction.text import TfidfVectorizer\n",
    "from sklearn.ensemble import VotingClassifier\n",
    "from sklearn.neighbors import KNeighborsClassifier\n",
    "from sklearn.tree import DecisionTreeClassifier\n",
    "from sklearn.ensemble import RandomForestClassifier\n",
    "from sklearn.linear_model import SGDClassifier\n",
    "from sklearn.linear_model import LogisticRegression\n",
    "from sklearn.naive_bayes import MultinomialNB\n",
    "from sklearn.svm import SVC\n",
    "\n",
    "# Scikit-learn metrics for model evaluation\n",
    "from sklearn.metrics import accuracy_score, classification_report\n",
    "\n",
    "# Loading the dataset from an Excel file named 'NLP_Data.xlsx' into a Pandas DataFrame.\n",
    "data = pd.read_excel('NLP_Data.xlsx')"
   ]
  },
  {
   "cell_type": "markdown",
   "id": "a85206ce",
   "metadata": {},
   "source": [
    "### Text Cleaning or Data Preprocessing"
   ]
  },
  {
   "cell_type": "code",
   "execution_count": 42,
   "id": "b127bf2c",
   "metadata": {},
   "outputs": [],
   "source": [
    "# Removing rows with missing values in the 'Description of the Grievance' column.\n",
    "data.dropna(subset=['Description of the Grievance'], inplace=True)"
   ]
  },
  {
   "cell_type": "code",
   "execution_count": 43,
   "id": "4d6408d1",
   "metadata": {},
   "outputs": [],
   "source": [
    "# Defining a function to preprocess text data.\n",
    "def preprocess_text(text):\n",
    "    if isinstance(text, str):\n",
    "        # Cleaning the text by removing special characters, punctuation, and numbers using regular expressions.\n",
    "        text = re.sub(r'[^a-zA-Z\\s]', '', text)\n",
    "        # Converting the text to lowercase for consistency.\n",
    "        text = text.lower()\n",
    "    else:\n",
    "        # Handling missing values or non-string data by setting text to an empty string.\n",
    "        text = ''\n",
    "    return text"
   ]
  },
  {
   "cell_type": "code",
   "execution_count": 44,
   "id": "7038b4df",
   "metadata": {},
   "outputs": [],
   "source": [
    "# Applying text preprocessing to the 'Description of the Grievance' column\n",
    "data['cleaned_description'] = data['Description of the Grievance'].apply(preprocess_text)\n",
    "\n",
    "# Removing punctuation\n",
    "data['cleaned_description']  = data['cleaned_description'] .str.replace(r'[^\\w\\d\\s]', ' ')\n",
    "\n",
    "# Replacing whitespace between terms with a single space\n",
    "data['cleaned_description']  = data['cleaned_description'] .str.replace(r'\\s+', ' ')\n",
    "\n",
    "# Removing leading and trailing whitespace\n",
    "data['cleaned_description']  = data['cleaned_description'] .str.replace(r'^\\s+|\\s+?$', '')"
   ]
  },
  {
   "cell_type": "code",
   "execution_count": 45,
   "id": "44ee13bd",
   "metadata": {},
   "outputs": [
    {
     "name": "stdout",
     "output_type": "stream",
     "text": [
      "0      concerns regarding laboratory tests being bill...\n",
      "1                           dassatifaction with provider\n",
      "2                    dissatisafaction with delay in care\n",
      "3      dissatisafaction with dental provider way of c...\n",
      "4      dissatisfaction for not being informed he had ...\n",
      "                             ...                        \n",
      "517    who member why member got a letter of denial f...\n",
      "518    who member why the cost of the members rx for ...\n",
      "519    who the mbr why the mbr is dissatisfied becaus...\n",
      "520    who the member is requesting appeal why the me...\n",
      "521    why member states she was denied covid booster...\n",
      "Name: cleaned_description, Length: 522, dtype: object\n"
     ]
    }
   ],
   "source": [
    "# Converting the cleaned text in the 'cleaned_description' column to lowercase.\n",
    "data['cleaned_description'] = data['cleaned_description'].str.lower()\n",
    "\n",
    "# Printing the cleaned and lowercase text in the 'cleaned_description' column.\n",
    "print(data['cleaned_description'])"
   ]
  },
  {
   "cell_type": "code",
   "execution_count": 46,
   "id": "307d37c7",
   "metadata": {},
   "outputs": [
    {
     "name": "stdout",
     "output_type": "stream",
     "text": [
      "0      concerns regarding laboratory tests being bill...\n",
      "1                           dassatifaction with provider\n",
      "2                    dissatisafaction with delay in care\n",
      "3      dissatisafaction with dental provider way of c...\n",
      "4      dissatisfaction for not being informed he had ...\n",
      "                             ...                        \n",
      "517    who member why member got a letter of denial f...\n",
      "518    who member why the cost of the members rx for ...\n",
      "519    who the mbr why the mbr is dissatisfied becaus...\n",
      "520    who the member is requesting appeal why the me...\n",
      "521    why member states she was denied covid booster...\n",
      "Name: cleaned_description, Length: 522, dtype: object\n"
     ]
    }
   ],
   "source": [
    "# Importing the 'stopwords' module from NLTK (Natural Language Toolkit).\n",
    "from nltk.corpus import stopwords\n",
    "\n",
    "# Converting the cleaned text in the 'cleaned_description' column to lowercase.\n",
    "data['cleaned_description'] = data['cleaned_description'].str.lower()\n",
    "\n",
    "# Printing the cleaned and lowercase text in the 'cleaned_description' column.\n",
    "print(data['cleaned_description'])"
   ]
  },
  {
   "cell_type": "code",
   "execution_count": 47,
   "id": "0bba834d",
   "metadata": {},
   "outputs": [],
   "source": [
    "# Creating a set of English stopwords using the NLTK library.\n",
    "stop_words = set(stopwords.words('english'))\n",
    "\n",
    "# Defining a function to remove stopwords from a text.\n",
    "def remove_stopwords(text):\n",
    "    if isinstance(text, str):\n",
    "        # Split the text into terms, remove stopwords, and join the remaining terms back into a text.\n",
    "        return ' '.join(term for term in text.split() if term not in stop_words)\n",
    "    else:\n",
    "        return text  # Return non-string values unchanged\n",
    "\n",
    "# Applying the remove_stopwords function to the 'cleaned_description' column to eliminate stopwords.\n",
    "data['cleaned_description'] = data['cleaned_description'].apply(remove_stopwords)"
   ]
  },
  {
   "cell_type": "markdown",
   "id": "1f0d620b",
   "metadata": {},
   "source": [
    "### Stemming"
   ]
  },
  {
   "cell_type": "code",
   "execution_count": 48,
   "id": "2f7c4e97",
   "metadata": {},
   "outputs": [],
   "source": [
    "# Importing the NLTK library and the Porter Stemmer from NLTK.\n",
    "import nltk\n",
    "from nltk.stem import PorterStemmer\n",
    "\n",
    "# Initializing the Porter Stemmer.\n",
    "ps = PorterStemmer()\n",
    "\n",
    "# Defining a function to apply stemming to text strings.\n",
    "def stem_text(text):\n",
    "    if isinstance(text, str):\n",
    "        # Split the text into terms, apply stemming to each term, and join them back into a text.\n",
    "        return ' '.join(ps.stem(term) for term in text.split())\n",
    "    else:\n",
    "        return text  # Return non-string values unchanged\n",
    "\n",
    "# Applying the stem_text function to the 'cleaned_description' column to perform word stemming.\n",
    "data['cleaned_description'] = data['cleaned_description'].apply(stem_text)"
   ]
  },
  {
   "cell_type": "markdown",
   "id": "ec9d4a4b",
   "metadata": {},
   "source": [
    "### Lemmatization"
   ]
  },
  {
   "cell_type": "code",
   "execution_count": 49,
   "id": "157773f1",
   "metadata": {},
   "outputs": [],
   "source": [
    "# Importing the NLTK library and the WordNet Lemmatizer from NLTK.\n",
    "import nltk\n",
    "from nltk.stem import WordNetLemmatizer\n",
    "\n",
    "# Initializing the WordNet Lemmatizer.\n",
    "lemmatizer = WordNetLemmatizer()\n",
    "\n",
    "# Defining a function to apply lemmatization to text strings.\n",
    "def lemmatize_text(text):\n",
    "    if isinstance(text, str):\n",
    "        # Spliting the text into terms, apply lemmatization to each term, and join them back into a text.\n",
    "        return ' '.join(lemmatizer.lemmatize(term) for term in text.split())\n",
    "    else:\n",
    "        return text  # Return non-string values unchanged\n",
    "\n",
    "# Applying the lemmatize_text function to the 'cleaned_description' column for lemmatization.\n",
    "data['cleaned_description'] = data['cleaned_description'].apply(lemmatize_text)"
   ]
  },
  {
   "cell_type": "code",
   "execution_count": 50,
   "id": "8f93059d",
   "metadata": {},
   "outputs": [
    {
     "name": "stderr",
     "output_type": "stream",
     "text": [
      "[nltk_data] Downloading package punkt to\n",
      "[nltk_data]     C:\\Users\\KIIT\\AppData\\Roaming\\nltk_data...\n",
      "[nltk_data]   Package punkt is already up-to-date!\n"
     ]
    },
    {
     "data": {
      "text/plain": [
       "True"
      ]
     },
     "execution_count": 50,
     "metadata": {},
     "output_type": "execute_result"
    }
   ],
   "source": [
    "# Import the NLTK library and download the 'punkt' resource.\n",
    "import nltk\n",
    "nltk.download('punkt')\n"
   ]
  },
  {
   "cell_type": "code",
   "execution_count": 51,
   "id": "2f784b7c",
   "metadata": {},
   "outputs": [
    {
     "data": {
      "text/plain": [
       "0      21\n",
       "1      16\n",
       "2      20\n",
       "3      16\n",
       "4       1\n",
       "       ..\n",
       "517    23\n",
       "518    18\n",
       "519    19\n",
       "520    18\n",
       "521    18\n",
       "Name: Category_SubLabels, Length: 522, dtype: int32"
      ]
     },
     "execution_count": 51,
     "metadata": {},
     "output_type": "execute_result"
    }
   ],
   "source": [
    "# Initializing a LabelEncoder for encoding target labels.\n",
    "label_encoder = LabelEncoder()\n",
    "\n",
    "# Encoding the 'Grievance Category' column and store the results in 'Category_Labels'.\n",
    "data['Category_Labels'] = label_encoder.fit_transform(data['Grievance Category'])\n",
    "\n",
    "# Displaying the encoded 'Category_Labels'.\n",
    "data['Category_Labels']\n",
    "\n",
    "# Encoding the 'Grievance SubCategory' column and store the results in 'Category_SubLabels'.\n",
    "data['Category_SubLabels'] = label_encoder.fit_transform(data['Grievance SubCategory'])\n",
    "\n",
    "# Displaying the encoded 'Category_SubLabels'.\n",
    "data['Category_SubLabels']"
   ]
  },
  {
   "cell_type": "code",
   "execution_count": 52,
   "id": "bb817366",
   "metadata": {},
   "outputs": [
    {
     "name": "stderr",
     "output_type": "stream",
     "text": [
      "[nltk_data] Downloading package omw-1.4 to\n",
      "[nltk_data]     C:\\Users\\KIIT\\AppData\\Roaming\\nltk_data...\n",
      "[nltk_data]   Package omw-1.4 is already up-to-date!\n"
     ]
    },
    {
     "data": {
      "text/plain": [
       "True"
      ]
     },
     "execution_count": 52,
     "metadata": {},
     "output_type": "execute_result"
    }
   ],
   "source": [
    "# Importing the NLTK library and download the 'omw-1.4' resource.\n",
    "import nltk\n",
    "nltk.download('omw-1.4')"
   ]
  },
  {
   "cell_type": "code",
   "execution_count": 53,
   "id": "0cff17c0",
   "metadata": {},
   "outputs": [],
   "source": [
    "# Spliting the dataset into features (X) and target labels (y1 and y2).\n",
    "X = data['cleaned_description']  # Features, containing cleaned text descriptions\n",
    "y1 = data['Category_Labels']  # Target labels for 'Grievance Category'\n",
    "y2 = data['Category_SubLabels']  # Target labels for 'Grievance SubCategory'\n"
   ]
  },
  {
   "cell_type": "markdown",
   "id": "834d489c",
   "metadata": {},
   "source": [
    "### Vectorization"
   ]
  },
  {
   "cell_type": "code",
   "execution_count": 54,
   "id": "2ad8f5c6",
   "metadata": {},
   "outputs": [],
   "source": [
    "# Createing a TF-IDF vectorizer with hyperparameter tuning.\n",
    "# Seting the maximum number of features to 1000 and specify English stop words.\n",
    "tfidf_vectorizer = TfidfVectorizer(max_features=60, stop_words='english')\n",
    "\n",
    "# Fiting and transforming the cleaned text data using TF-IDF vectorization.\n",
    "X_tfidf = tfidf_vectorizer.fit_transform(X)\n",
    "\n",
    "# Spliting the data into training and testing sets for 'Grievance Category' prediction.\n",
    "X_train, X_test, y1_train, y1_test = train_test_split(X_tfidf, y1, test_size=0.3, random_state=42)\n",
    "\n",
    "# Spliting the data into training and testing sets for 'Grievance SubCategory' prediction.\n",
    "X_train, X_test, y2_train, y2_test = train_test_split(X_tfidf, y2, test_size=0.3, random_state=42)"
   ]
  },
  {
   "cell_type": "markdown",
   "id": "a7bb3452",
   "metadata": {},
   "source": [
    "### Category Prediction (Y1)"
   ]
  },
  {
   "cell_type": "code",
   "execution_count": 55,
   "id": "f9770f02",
   "metadata": {
    "scrolled": true
   },
   "outputs": [
    {
     "name": "stdout",
     "output_type": "stream",
     "text": [
      "Accuracy of Voting Classifier: 62.42%\n",
      "Classification Report for Voting Classifier:\n",
      "              precision    recall  f1-score   support\n",
      "\n",
      "           0       0.72      0.51      0.60        35\n",
      "           1       0.25      0.17      0.20         6\n",
      "           2       0.86      0.33      0.48        18\n",
      "           3       0.00      0.00      0.00         1\n",
      "           5       0.00      0.00      0.00         1\n",
      "           7       0.65      0.76      0.70        42\n",
      "           8       0.57      0.91      0.70        45\n",
      "           9       0.00      0.00      0.00         9\n",
      "\n",
      "    accuracy                           0.62       157\n",
      "   macro avg       0.38      0.34      0.34       157\n",
      "weighted avg       0.61      0.62      0.59       157\n",
      "\n"
     ]
    }
   ],
   "source": [
    "# Defining a list of base classifiers with hyperparameter tuning\n",
    "classifiers = [\n",
    "     ('svm', GridSearchCV(SVC(kernel='linear'), {'C': [0.01, 0.1, 1.0]}, cv=5)),\n",
    "      ('naive_bayes', MultinomialNB()),\n",
    "     ('logistic_regression', GridSearchCV(LogisticRegression(max_iter=100), {'C': [0.01, 0.1, 1.0]}, cv=5))\n",
    "    \n",
    "]\n",
    "\n",
    "# Creating a Voting Classifier with the specified base classifiers\n",
    "voting_classifier = VotingClassifier(estimators=classifiers, voting='hard')\n",
    "\n",
    "# Training the Voting Classifier on the training data\n",
    "voting_classifier.fit(X_train, y1_train)\n",
    "\n",
    "# Making predictions on the test data using the ensemble model\n",
    "y1_pred = voting_classifier.predict(X_test)\n",
    "\n",
    "# Evaluating the performance of the ensemble model by calculating accuracy\n",
    "accuracy = accuracy_score(y1_test, y1_pred)\n",
    "print(f\"Accuracy of Voting Classifier: {accuracy * 100:.2f}%\")\n",
    "\n",
    "# Generating a classification report for more detailed evaluation\n",
    "classification_rep = classification_report(y1_test, y1_pred)\n",
    "print(\"Classification Report for Voting Classifier:\")\n",
    "print(classification_rep)"
   ]
  },
  {
   "cell_type": "code",
   "execution_count": 56,
   "id": "14851703",
   "metadata": {},
   "outputs": [
    {
     "name": "stdout",
     "output_type": "stream",
     "text": [
      "Training and evaluating K Nearest Neighbors:: \n",
      "Accuracy of K Nearest Neighbors: 49.68%\n",
      "\n",
      "\n",
      "Training and evaluating Decision Tree:: \n",
      "Accuracy of Decision Tree: 39.49%\n",
      "\n",
      "\n",
      "Training and evaluating Random Forest:: \n",
      "Accuracy of Random Forest: 54.78%\n",
      "\n",
      "\n",
      "Training and evaluating Logistic Regression:: \n",
      "Accuracy of Logistic Regression: 59.87%\n",
      "\n",
      "\n",
      "Training and evaluating SGD Classifier:: \n",
      "Accuracy of SGD Classifier: 49.68%\n",
      "\n",
      "\n",
      "Training and evaluating Naive Bayes:: \n",
      "Accuracy of Naive Bayes: 56.69%\n",
      "\n",
      "\n",
      "Training and evaluating SVM Linear:: \n",
      "Accuracy of SVM Linear: 60.51%\n",
      "\n",
      "\n",
      "The best classifier is SVM Linear with an accuracy of 60.51%\n"
     ]
    }
   ],
   "source": [
    "# Defining a list of classifier names and corresponding classifier instances\n",
    "names = [\"K Nearest Neighbors\", \"Decision Tree\", \"Random Forest\", \"Logistic Regression\", \"SGD Classifier\",\n",
    "         \"Naive Bayes\", \"SVM Linear\"]\n",
    "\n",
    "classifiers = [\n",
    "    KNeighborsClassifier(),\n",
    "    DecisionTreeClassifier(),\n",
    "    RandomForestClassifier(),\n",
    "    LogisticRegression(max_iter=100),  # Increase max_iter if needed\n",
    "    SGDClassifier(),\n",
    "    MultinomialNB(),\n",
    "    SVC(kernel='linear')  # You can use other kernels as well\n",
    "]\n",
    "\n",
    "best_accuracy = 0\n",
    "best_classifier = None\n",
    "\n",
    "# Iterating through each classifier and evaluate its performance\n",
    "for name, clf in zip(names, classifiers):\n",
    "    print(f\"Training and evaluating {name}:: \")\n",
    "    \n",
    "    # Training the classifier on the training data\n",
    "    clf.fit(X_train, y1_train)\n",
    "    \n",
    "    # Making predictions on the test data\n",
    "    y1_pred = clf.predict(X_test)\n",
    "    \n",
    "    # Calculating the accuracy of the model\n",
    "    accuracy = accuracy_score(y1_test, y1_pred)\n",
    "    print(f\"Accuracy of {name}: {accuracy * 100:.2f}%\")\n",
    "    \n",
    "    if accuracy > best_accuracy:\n",
    "        best_accuracy = accuracy\n",
    "        best_classifier = name\n",
    "        \n",
    "    print(\"\\n\")\n",
    "    \n",
    "print(f\"The best classifier is {best_classifier} with an accuracy of {best_accuracy * 100:.2f}%\")"
   ]
  },
  {
   "cell_type": "markdown",
   "id": "89002f1a",
   "metadata": {},
   "source": [
    "### SubCategory Prediction (Y2)"
   ]
  },
  {
   "cell_type": "code",
   "execution_count": 57,
   "id": "e720dfab",
   "metadata": {},
   "outputs": [
    {
     "name": "stdout",
     "output_type": "stream",
     "text": [
      "Accuracy of Voting Classifier: 37.58%\n",
      "Classification Report for Voting Classifier:\n",
      "              precision    recall  f1-score   support\n",
      "\n",
      "           0       0.00      0.00      0.00         4\n",
      "           1       0.60      0.33      0.43         9\n",
      "           2       0.00      0.00      0.00         1\n",
      "           4       0.00      0.00      0.00         1\n",
      "           5       0.56      0.71      0.63         7\n",
      "           7       0.00      0.00      0.00         2\n",
      "           8       0.00      0.00      0.00         1\n",
      "          10       0.67      0.50      0.57         4\n",
      "          12       0.00      0.00      0.00         2\n",
      "          14       0.20      1.00      0.33         1\n",
      "          15       0.00      0.00      0.00         6\n",
      "          16       0.22      0.65      0.32        17\n",
      "          17       0.46      0.43      0.44        14\n",
      "          18       0.29      0.46      0.35        24\n",
      "          19       0.45      0.42      0.43        12\n",
      "          20       0.50      0.22      0.31         9\n",
      "          21       0.00      0.00      0.00         8\n",
      "          22       0.76      0.50      0.60        26\n",
      "          23       0.00      0.00      0.00         9\n",
      "\n",
      "    accuracy                           0.38       157\n",
      "   macro avg       0.25      0.27      0.23       157\n",
      "weighted avg       0.38      0.38      0.35       157\n",
      "\n"
     ]
    }
   ],
   "source": [
    "# Defining a list of base classifiers with hyperparameter tuning\n",
    "classifiers = [\n",
    "    ('logistic_regression', GridSearchCV(LogisticRegression(max_iter=1000), {'C': [0.1, 1.0, 10.0]}, cv=5)),\n",
    "    ('svm', GridSearchCV(SVC(kernel='linear'), {'C': [0.1, 1.0, 10.0]}, cv=5))\n",
    "]\n",
    "\n",
    "# Creating a Voting Classifier with the specified base classifiers\n",
    "voting_classifier = VotingClassifier(estimators=classifiers, voting='hard')\n",
    "\n",
    "# Training the Voting Classifier on the training data\n",
    "voting_classifier.fit(X_train, y2_train)\n",
    "\n",
    "# Make predictions on the test data using the ensemble model\n",
    "y2_pred = voting_classifier.predict(X_test)\n",
    "\n",
    "# Evaluating the performance of the ensemble model by calculating accuracy\n",
    "accuracy = accuracy_score(y2_test, y2_pred)\n",
    "print(f\"Accuracy of Voting Classifier: {accuracy * 100:.2f}%\")\n",
    "\n",
    "# Generating a classification report for more detailed evaluation\n",
    "classification_rep = classification_report(y2_test, y2_pred)\n",
    "print(\"Classification Report for Voting Classifier:\")\n",
    "print(classification_rep)"
   ]
  },
  {
   "cell_type": "code",
   "execution_count": 58,
   "id": "b0814fe2",
   "metadata": {
    "scrolled": true
   },
   "outputs": [
    {
     "name": "stdout",
     "output_type": "stream",
     "text": [
      "Training and evaluating K Nearest Neighbors ::\n",
      "Accuracy of K Nearest Neighbors: 28.03%\n",
      "\n",
      "\n",
      "\n",
      "\n",
      "Training and evaluating Decision Tree ::\n",
      "Accuracy of Decision Tree: 25.48%\n",
      "\n",
      "\n",
      "\n",
      "\n",
      "Training and evaluating Random Forest ::\n",
      "Accuracy of Random Forest: 29.94%\n",
      "\n",
      "\n",
      "\n",
      "\n",
      "Training and evaluating Logistic Regression ::\n",
      "Accuracy of Logistic Regression: 32.48%\n",
      "\n",
      "\n",
      "\n",
      "\n",
      "Training and evaluating SGD Classifier ::\n",
      "Accuracy of SGD Classifier: 29.94%\n",
      "\n",
      "\n",
      "\n",
      "\n",
      "Training and evaluating Naive Bayes ::\n",
      "Accuracy of Naive Bayes: 26.75%\n",
      "\n",
      "\n",
      "\n",
      "\n",
      "Training and evaluating SVM Linear ::\n",
      "Accuracy of SVM Linear: 37.58%\n",
      "\n",
      "\n",
      "\n",
      "\n",
      "The best classifier is SVM Linear with an accuracy of 37.58%\n"
     ]
    }
   ],
   "source": [
    "# Defining a list of classifier names and corresponding classifier instances for 'Grievance SubCategory'\n",
    "names = [\"K Nearest Neighbors\", \"Decision Tree\", \"Random Forest\", \"Logistic Regression\", \"SGD Classifier\",\n",
    "         \"Naive Bayes\", \"SVM Linear\"]\n",
    "\n",
    "classifiers = [\n",
    "    KNeighborsClassifier(),\n",
    "    DecisionTreeClassifier(),\n",
    "    RandomForestClassifier(),\n",
    "    LogisticRegression(max_iter=1000),  # Increase max_iter if needed\n",
    "    SGDClassifier(),\n",
    "    MultinomialNB(),\n",
    "    SVC(kernel='linear')  # You can use other kernels as well\n",
    "]\n",
    "\n",
    "best_accuracy = 0\n",
    "best_classifier = None\n",
    "\n",
    "# Iterating through each classifier and evaluate its performance for 'Grievance SubCategory'\n",
    "for name, clf in zip(names, classifiers):\n",
    "    print(f\"Training and evaluating {name} ::\")\n",
    "    \n",
    "    # Train the classifier on the training data for 'Grievance SubCategory'\n",
    "    clf.fit(X_train, y2_train)\n",
    "    \n",
    "    # Make predictions on the test data for 'Grievance SubCategory'\n",
    "    y2_pred = clf.predict(X_test)\n",
    "    \n",
    "    # Calculate the accuracy of the model for 'Grievance SubCategory'\n",
    "    accuracy = accuracy_score(y2_test, y2_pred)\n",
    "    print(f\"Accuracy of {name}: {accuracy * 100:.2f}%\")\n",
    "    print('\\n')\n",
    "    if accuracy > best_accuracy:\n",
    "        best_accuracy = accuracy\n",
    "        best_classifier = name\n",
    "        \n",
    "    print(\"\\n\")\n",
    "    \n",
    "print(f\"The best classifier is {best_classifier} with an accuracy of {best_accuracy * 100:.2f}%\")"
   ]
  },
  {
   "cell_type": "markdown",
   "id": "9afe3d2c",
   "metadata": {},
   "source": [
    "### DATASET WITH PREDCITION "
   ]
  },
  {
   "cell_type": "code",
   "execution_count": 59,
   "id": "ea133cda",
   "metadata": {},
   "outputs": [
    {
     "data": {
      "text/html": [
       "<div>\n",
       "<style scoped>\n",
       "    .dataframe tbody tr th:only-of-type {\n",
       "        vertical-align: middle;\n",
       "    }\n",
       "\n",
       "    .dataframe tbody tr th {\n",
       "        vertical-align: top;\n",
       "    }\n",
       "\n",
       "    .dataframe thead th {\n",
       "        text-align: right;\n",
       "    }\n",
       "</style>\n",
       "<table border=\"1\" class=\"dataframe\">\n",
       "  <thead>\n",
       "    <tr style=\"text-align: right;\">\n",
       "      <th></th>\n",
       "      <th>Description of the Grievance</th>\n",
       "      <th>Grievance Category</th>\n",
       "      <th>Grievance SubCategory</th>\n",
       "      <th>cleaned_description</th>\n",
       "      <th>Category_Labels</th>\n",
       "      <th>Category_SubLabels</th>\n",
       "    </tr>\n",
       "  </thead>\n",
       "  <tbody>\n",
       "    <tr>\n",
       "      <th>0</th>\n",
       "      <td>concerns regarding laboratory tests being bill...</td>\n",
       "      <td>Billing/Financial Dispute</td>\n",
       "      <td>Provider Claim Issues</td>\n",
       "      <td>concern regard laboratori test bill twice</td>\n",
       "      <td>2</td>\n",
       "      <td>21</td>\n",
       "    </tr>\n",
       "    <tr>\n",
       "      <th>1</th>\n",
       "      <td>dassatifaction with provider</td>\n",
       "      <td>Quality Of Service</td>\n",
       "      <td>Not Satisfied With Provider Services</td>\n",
       "      <td>dassatifact provid</td>\n",
       "      <td>8</td>\n",
       "      <td>16</td>\n",
       "    </tr>\n",
       "    <tr>\n",
       "      <th>2</th>\n",
       "      <td>Dissatisafaction with delay in care.</td>\n",
       "      <td>Access And Availability</td>\n",
       "      <td>Pharmacy</td>\n",
       "      <td>dissatisafact delay care</td>\n",
       "      <td>0</td>\n",
       "      <td>20</td>\n",
       "    </tr>\n",
       "    <tr>\n",
       "      <th>3</th>\n",
       "      <td>Dissatisafaction with Dental provider way of c...</td>\n",
       "      <td>Quality Of Service</td>\n",
       "      <td>Not Satisfied With Provider Services</td>\n",
       "      <td>dissatisafact dental provid way conduct busi</td>\n",
       "      <td>8</td>\n",
       "      <td>16</td>\n",
       "    </tr>\n",
       "    <tr>\n",
       "      <th>4</th>\n",
       "      <td>Dissatisfaction for not being informed he had ...</td>\n",
       "      <td>Billing/Financial Dispute</td>\n",
       "      <td>Balance Billing</td>\n",
       "      <td>dissatisfact inform dental benefit coverag mem...</td>\n",
       "      <td>2</td>\n",
       "      <td>1</td>\n",
       "    </tr>\n",
       "    <tr>\n",
       "      <th>...</th>\n",
       "      <td>...</td>\n",
       "      <td>...</td>\n",
       "      <td>...</td>\n",
       "      <td>...</td>\n",
       "      <td>...</td>\n",
       "      <td>...</td>\n",
       "    </tr>\n",
       "    <tr>\n",
       "      <th>517</th>\n",
       "      <td>Who: member. Why: member got a letter of denia...</td>\n",
       "      <td>NaN</td>\n",
       "      <td>NaN</td>\n",
       "      <td>member member got letter denial vsp duplic med...</td>\n",
       "      <td>9</td>\n",
       "      <td>23</td>\n",
       "    </tr>\n",
       "    <tr>\n",
       "      <th>518</th>\n",
       "      <td>Who: Member  Why: the cost of the member's RX ...</td>\n",
       "      <td>Benefit Package</td>\n",
       "      <td>Other</td>\n",
       "      <td>member cost member rx osphena mg tab member pa...</td>\n",
       "      <td>1</td>\n",
       "      <td>18</td>\n",
       "    </tr>\n",
       "    <tr>\n",
       "      <th>519</th>\n",
       "      <td>Who: The mbr  Why: The mbr is dissatisfied bec...</td>\n",
       "      <td>Quality Of Care</td>\n",
       "      <td>Pcp</td>\n",
       "      <td>mbr mbr dissatisfi say sr horribl commun mbr p...</td>\n",
       "      <td>7</td>\n",
       "      <td>19</td>\n",
       "    </tr>\n",
       "    <tr>\n",
       "      <th>520</th>\n",
       "      <td>Who: The member is requesting appeal  Why: The...</td>\n",
       "      <td>Quality Of Care</td>\n",
       "      <td>Other</td>\n",
       "      <td>member request appeal member dissatisfi member...</td>\n",
       "      <td>7</td>\n",
       "      <td>18</td>\n",
       "    </tr>\n",
       "    <tr>\n",
       "      <th>521</th>\n",
       "      <td>Why: Member states she was denied covid-19 bo...</td>\n",
       "      <td>Access And Availability</td>\n",
       "      <td>Other</td>\n",
       "      <td>member state deni covid booster vaccin turn aw...</td>\n",
       "      <td>0</td>\n",
       "      <td>18</td>\n",
       "    </tr>\n",
       "  </tbody>\n",
       "</table>\n",
       "<p>522 rows × 6 columns</p>\n",
       "</div>"
      ],
      "text/plain": [
       "                          Description of the Grievance  \\\n",
       "0    concerns regarding laboratory tests being bill...   \n",
       "1                         dassatifaction with provider   \n",
       "2                Dissatisafaction with delay in care.    \n",
       "3    Dissatisafaction with Dental provider way of c...   \n",
       "4    Dissatisfaction for not being informed he had ...   \n",
       "..                                                 ...   \n",
       "517  Who: member. Why: member got a letter of denia...   \n",
       "518  Who: Member  Why: the cost of the member's RX ...   \n",
       "519  Who: The mbr  Why: The mbr is dissatisfied bec...   \n",
       "520  Who: The member is requesting appeal  Why: The...   \n",
       "521   Why: Member states she was denied covid-19 bo...   \n",
       "\n",
       "            Grievance Category                 Grievance SubCategory  \\\n",
       "0    Billing/Financial Dispute                 Provider Claim Issues   \n",
       "1           Quality Of Service  Not Satisfied With Provider Services   \n",
       "2      Access And Availability                              Pharmacy   \n",
       "3           Quality Of Service  Not Satisfied With Provider Services   \n",
       "4    Billing/Financial Dispute                       Balance Billing   \n",
       "..                         ...                                   ...   \n",
       "517                        NaN                                   NaN   \n",
       "518            Benefit Package                                 Other   \n",
       "519            Quality Of Care                                   Pcp   \n",
       "520            Quality Of Care                                 Other   \n",
       "521    Access And Availability                                 Other   \n",
       "\n",
       "                                   cleaned_description  Category_Labels  \\\n",
       "0            concern regard laboratori test bill twice                2   \n",
       "1                                   dassatifact provid                8   \n",
       "2                             dissatisafact delay care                0   \n",
       "3         dissatisafact dental provid way conduct busi                8   \n",
       "4    dissatisfact inform dental benefit coverag mem...                2   \n",
       "..                                                 ...              ...   \n",
       "517  member member got letter denial vsp duplic med...                9   \n",
       "518  member cost member rx osphena mg tab member pa...                1   \n",
       "519  mbr mbr dissatisfi say sr horribl commun mbr p...                7   \n",
       "520  member request appeal member dissatisfi member...                7   \n",
       "521  member state deni covid booster vaccin turn aw...                0   \n",
       "\n",
       "     Category_SubLabels  \n",
       "0                    21  \n",
       "1                    16  \n",
       "2                    20  \n",
       "3                    16  \n",
       "4                     1  \n",
       "..                  ...  \n",
       "517                  23  \n",
       "518                  18  \n",
       "519                  19  \n",
       "520                  18  \n",
       "521                  18  \n",
       "\n",
       "[522 rows x 6 columns]"
      ]
     },
     "execution_count": 59,
     "metadata": {},
     "output_type": "execute_result"
    }
   ],
   "source": [
    "data"
   ]
  },
  {
   "cell_type": "markdown",
   "id": "7c980ffb",
   "metadata": {},
   "source": [
    "# **RESULT**"
   ]
  },
  {
   "cell_type": "markdown",
   "id": "fc49e000",
   "metadata": {},
   "source": [
    "\n",
    "# ACCURACY (Y1 PREDICTION)\n",
    "\n",
    "|   MODEL  |      ACCURACY |\n",
    "|----------|----------|\n",
    "| Voting Classifier  | 62.42%   |\n",
    "| K Nearest Neighbors   | 49.68% |\n",
    "| Decision Tree  | 39.49% |\n",
    "| Random Forest   |  54.78% |\n",
    "| Logistic Regression   | 59.87%   |\n",
    "| SGD Classifier   |  49.68% |\n",
    "| Naive Bayes  | 56.69%  |\n",
    "| SVM Linear   | 60.51%  |\n",
    "\n",
    "\n",
    "## Best Performance: Voting Classifier (62.42% accuracy)"
   ]
  },
  {
   "cell_type": "markdown",
   "id": "f8d6a56c",
   "metadata": {},
   "source": [
    "----------------------------------------------------------------------------------------------------------------------------\n"
   ]
  },
  {
   "cell_type": "markdown",
   "id": "ba6810aa",
   "metadata": {},
   "source": [
    "# ACCURACY (Y2 PREDICTION)"
   ]
  },
  {
   "cell_type": "markdown",
   "id": "878e235e",
   "metadata": {},
   "source": [
    "\n",
    "|   MODEL  |      ACCURACY |\n",
    "|----------|----------|\n",
    "| Voting Classifier  |  37.58%    |\n",
    "| K Nearest Neighbors   | 28.03%  |\n",
    "| Decision Tree  |   25.48% |\n",
    "| Random Forest   |   29.94% |\n",
    "| Logistic Regression   | 32.48% |\n",
    "| SGD Classifier   | 29.94% |\n",
    "| Naive Bayes  | 26.75%  |\n",
    "| SVM Linear   | 37.58% |\n",
    "\n",
    "## Best Performance: Voting Classifier and SVM (Linear) (37.58%  )\n"
   ]
  },
  {
   "cell_type": "code",
   "execution_count": null,
   "id": "bf4daa94",
   "metadata": {},
   "outputs": [],
   "source": [
    " "
   ]
  }
 ],
 "metadata": {
  "kernelspec": {
   "display_name": "Python 3 (ipykernel)",
   "language": "python",
   "name": "python3"
  },
  "language_info": {
   "codemirror_mode": {
    "name": "ipython",
    "version": 3
   },
   "file_extension": ".py",
   "mimetype": "text/x-python",
   "name": "python",
   "nbconvert_exporter": "python",
   "pygments_lexer": "ipython3",
   "version": "3.10.9"
  }
 },
 "nbformat": 4,
 "nbformat_minor": 5
}
